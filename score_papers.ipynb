{
 "cells": [
  {
   "cell_type": "code",
   "execution_count": 1,
   "id": "5e1377aa-5c7d-46f1-b9f1-5c835069e3e6",
   "metadata": {
    "tags": []
   },
   "outputs": [],
   "source": [
    "\"\"\"\n",
    "Creating a score system based on relevant keywords.\n",
    "We import an excel file tha is a list of papers including\n",
    "two columns, the title and the abstract.\n",
    "After that we scan the whole list and we adding in each\n",
    "one the score we calculate.\n",
    "\"\"\"\n",
    "\n",
    "import pandas as pd\n",
    "import re\n",
    "\n",
    "# paper excel file\n",
    "df = pd.read_excel('papers.xlsx')\n",
    "\n",
    "# relevant keywords\n",
    "keywords = ['machine learning', 'artificial intelligence', 'deep learning',\n",
    "                     'reinforcement learning', 'neural network', 'venous thrombosis',\n",
    "                     'venous thromboembolism', 'pulmonary embolism', 'deep vein thrombosis']\n",
    "\n",
    "# Score column\n",
    "df['score'] = 0\n",
    "\n",
    "# checking all the papers\n",
    "for index, row in df.iterrows():\n",
    "    title = row['Title']\n",
    "    abstract = row['Abstract']\n",
    "    score = 0\n",
    "    \n",
    "    # Check if the title or abstract contains relevant keywords using regular expressions\n",
    "    for keyword in keywords:\n",
    "        pattern = r'\\b' + re.escape(keyword.lower()) + r'\\b'  # Create a regex pattern for exact word match\n",
    "        if re.search(pattern, str(title).lower()) or re.search(pattern, str(abstract).lower()):\n",
    "            score += 1\n",
    "    \n",
    "    # Adding the score\n",
    "    df.at[index, 'score'] = score\n",
    "\n",
    "# Sorting\n",
    "df = df.sort_values('score', ascending=False)\n",
    "\n",
    "# Export\n",
    "df.to_excel('sorted_papers_VerIII.xlsx', index=False)"
   ]
  },
  {
   "cell_type": "code",
   "execution_count": null,
   "id": "b8221bdf-21d5-4ae5-8667-b4cc55fdf2b6",
   "metadata": {},
   "outputs": [],
   "source": []
  }
 ],
 "metadata": {
  "kernelspec": {
   "display_name": "Python 3 (ipykernel)",
   "language": "python",
   "name": "python3"
  },
  "language_info": {
   "codemirror_mode": {
    "name": "ipython",
    "version": 3
   },
   "file_extension": ".py",
   "mimetype": "text/x-python",
   "name": "python",
   "nbconvert_exporter": "python",
   "pygments_lexer": "ipython3",
   "version": "3.9.16"
  }
 },
 "nbformat": 4,
 "nbformat_minor": 5
}
