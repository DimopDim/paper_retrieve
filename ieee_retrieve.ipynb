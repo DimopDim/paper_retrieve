{
 "cells": [
  {
   "cell_type": "code",
   "execution_count": 21,
   "id": "3fcabdb9-a53c-441e-a1fe-4555aa93ffa5",
   "metadata": {
    "tags": []
   },
   "outputs": [
    {
     "name": "stdout",
     "output_type": "stream",
     "text": [
      "No articles found for the given keywords.\n",
      "No articles found for the given keywords.\n",
      "No articles found for the given keywords.\n",
      "No articles found for the given keywords.\n"
     ]
    }
   ],
   "source": [
    "import requests\n",
    "\n",
    "api_key = '5p8pk9ebnbqzrd7sgmhg7nza'\n",
    "base_url = 'https://ieeexploreapi.ieee.org/api/v1/search/articles'\n",
    "\n",
    "def search_papers(keywords_list_1, keywords_list_2):\n",
    "    headers = {'Content-Type': 'application/json'}\n",
    "    params = {\n",
    "        'apikey': api_key,\n",
    "        'format': 'json',\n",
    "        'max_records': 10,\n",
    "        'start_record': 1,\n",
    "        'sort_order': 'asc',\n",
    "        'sort_field': 'article_number',\n",
    "        'abstract': 'true',\n",
    "        'highlight': 'true'\n",
    "    }\n",
    "\n",
    "    for keyword1 in keywords_list_1:\n",
    "        for keyword2 in keywords_list_2:\n",
    "            params['article_title'] = f'{keyword1} {keyword2}'\n",
    "\n",
    "            response = requests.get(base_url, headers=headers, params=params)\n",
    "\n",
    "            if response.status_code == 200:\n",
    "                data = response.json()\n",
    "                if 'articles' in data:\n",
    "                    for article in data['articles']:\n",
    "                        title = article.get('title')\n",
    "                        authors = []\n",
    "                        if 'authors' in article and isinstance(article['authors'], list):\n",
    "                            for author in article['authors']:\n",
    "                                if 'full_name' in author and isinstance(author['full_name'], str):\n",
    "                                    authors.append(author['full_name'])\n",
    "                        publication_year = article.get('publication_year')\n",
    "                        doi = article.get('doi')\n",
    "                        link = article.get('html_url')\n",
    "\n",
    "                        print(f\"Title: {title}\")\n",
    "                        print(f\"Authors: {', '.join(authors)}\")\n",
    "                        print(f\"Publication Year: {publication_year}\")\n",
    "                        print(f\"DOI: {doi}\")\n",
    "                        print(f\"Link: {link}\")\n",
    "                        print('---')\n",
    "                else:\n",
    "                    print('No articles found for the given keywords.')\n",
    "            else:\n",
    "                print('Error occurred while accessing the API.')\n",
    "\n",
    "# Call the function with keywords lists to search for\n",
    "keywords_list_1 = ['machine learning', 'artificial intelligence', 'deep learning', 'reinforcement learning', 'neural network']\n",
    "keywords_list_2 = ['venous thrombosis', 'venous thromboembolism', 'pulmonary embolism', 'deep vein thrombosis']\n",
    "\n",
    "search_papers(keywords_list_1, keywords_list_2)\n",
    "  "
   ]
  },
  {
   "cell_type": "code",
   "execution_count": null,
   "id": "d6718829-616c-4e78-8772-6211ae076234",
   "metadata": {},
   "outputs": [],
   "source": []
  }
 ],
 "metadata": {
  "kernelspec": {
   "display_name": "Python 3 (ipykernel)",
   "language": "python",
   "name": "python3"
  },
  "language_info": {
   "codemirror_mode": {
    "name": "ipython",
    "version": 3
   },
   "file_extension": ".py",
   "mimetype": "text/x-python",
   "name": "python",
   "nbconvert_exporter": "python",
   "pygments_lexer": "ipython3",
   "version": "3.9.16"
  }
 },
 "nbformat": 4,
 "nbformat_minor": 5
}
