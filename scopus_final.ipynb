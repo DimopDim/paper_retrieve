{
 "cells": [
  {
   "cell_type": "code",
   "execution_count": 1,
   "id": "a2a3855a-012c-44ea-b4ec-22b9eb052b35",
   "metadata": {
    "tags": []
   },
   "outputs": [],
   "source": [
    "import pandas as pd\n",
    "from itertools import product\n",
    "from pybliometrics.scopus import ScopusSearch"
   ]
  },
  {
   "cell_type": "code",
   "execution_count": 2,
   "id": "291a227e-0d9b-4777-9156-57caefc1e446",
   "metadata": {
    "tags": []
   },
   "outputs": [],
   "source": [
    "# Define the source and target keyword lists\n",
    "source_keywords = ['machine learning', 'artificial intelligence', 'deep learning', 'reinforcement learing', 'neural network']\n",
    "target_keywords = ['venous thrombosis', 'venous thromboembolism', 'palmonary embolism', 'deep vein thrombosis']"
   ]
  },
  {
   "cell_type": "code",
   "execution_count": 3,
   "id": "a82c2196-f194-4d68-83e6-f15d1b414821",
   "metadata": {
    "tags": []
   },
   "outputs": [
    {
     "name": "stdout",
     "output_type": "stream",
     "text": [
      "Search Combination 1: machine learning - venous thrombosis\n",
      "Search Combination 2: machine learning - venous thromboembolism\n",
      "Search Combination 3: machine learning - palmonary embolism\n",
      "An error occurred for combination 3: machine learning - palmonary embolism\n",
      "Error message: 'NoneType' object is not iterable\n",
      "Search Combination 4: machine learning - deep vein thrombosis\n",
      "Search Combination 5: artificial intelligence - venous thrombosis\n",
      "Search Combination 6: artificial intelligence - venous thromboembolism\n",
      "Search Combination 7: artificial intelligence - palmonary embolism\n",
      "An error occurred for combination 7: artificial intelligence - palmonary embolism\n",
      "Error message: 'NoneType' object is not iterable\n",
      "Search Combination 8: artificial intelligence - deep vein thrombosis\n",
      "Search Combination 9: deep learning - venous thrombosis\n",
      "Search Combination 10: deep learning - venous thromboembolism\n",
      "An error occurred for combination 10: deep learning - venous thromboembolism\n",
      "Error message: 'NoneType' object is not iterable\n",
      "Search Combination 11: deep learning - palmonary embolism\n",
      "An error occurred for combination 11: deep learning - palmonary embolism\n",
      "Error message: 'NoneType' object is not iterable\n",
      "Search Combination 12: deep learning - deep vein thrombosis\n",
      "Search Combination 13: reinforcement learing - venous thrombosis\n",
      "An error occurred for combination 13: reinforcement learing - venous thrombosis\n",
      "Error message: 'NoneType' object is not iterable\n",
      "Search Combination 14: reinforcement learing - venous thromboembolism\n",
      "An error occurred for combination 14: reinforcement learing - venous thromboembolism\n",
      "Error message: 'NoneType' object is not iterable\n",
      "Search Combination 15: reinforcement learing - palmonary embolism\n",
      "An error occurred for combination 15: reinforcement learing - palmonary embolism\n",
      "Error message: 'NoneType' object is not iterable\n",
      "Search Combination 16: reinforcement learing - deep vein thrombosis\n",
      "An error occurred for combination 16: reinforcement learing - deep vein thrombosis\n",
      "Error message: 'NoneType' object is not iterable\n",
      "Search Combination 17: neural network - venous thrombosis\n",
      "Search Combination 18: neural network - venous thromboembolism\n",
      "Search Combination 19: neural network - palmonary embolism\n",
      "An error occurred for combination 19: neural network - palmonary embolism\n",
      "Error message: 'NoneType' object is not iterable\n",
      "Search Combination 20: neural network - deep vein thrombosis\n"
     ]
    }
   ],
   "source": [
    "# Create an empty list to store the results\n",
    "results_list = []\n",
    "\n",
    "# Perform the search for each combination of keywords\n",
    "for i, (source_keyword, target_keyword) in enumerate(product(source_keywords, target_keywords)):\n",
    "    try:\n",
    "        query = f'TITLE(\"{source_keyword}\") AND TITLE(\"{target_keyword}\")'\n",
    "        search_results = ScopusSearch(query)\n",
    "\n",
    "        # Retrieve and print the search results for the current combination\n",
    "        print(f'Search Combination {i+1}: {source_keyword} - {target_keyword}')\n",
    "        if search_results is not None:\n",
    "            for j, result in enumerate(search_results.results):\n",
    "                paper_info = {\n",
    "                    'Source Keyword': source_keyword,\n",
    "                    'Target Keyword': target_keyword,\n",
    "                    'Title:': result.title,\n",
    "                    'Authors:': result.author_names,\n",
    "                    'Year:': result.coverDate,\n",
    "                    'DOI:': result.doi    \n",
    "                }\n",
    "                results_list.append(paper_info)\n",
    "        else:\n",
    "            print('No search results found.')\n",
    "        \n",
    "    except Exception as e:\n",
    "        print(f'An error occurred for combination {i+1}: {source_keyword} - {target_keyword}')\n",
    "        print(f'Error message: {str(e)}')\n",
    "        \n",
    "# Convert the results list to a dataframe\n",
    "results_df = pd.DataFrame(results_list)\n",
    "\n",
    "# Export the dataframe to a CSV file\n",
    "results_df.to_csv('search_results.csv', index=False)"
   ]
  },
  {
   "cell_type": "code",
   "execution_count": null,
   "id": "66989df6-802c-42f3-aa99-13529301aee7",
   "metadata": {},
   "outputs": [],
   "source": []
  }
 ],
 "metadata": {
  "kernelspec": {
   "display_name": "Python 3 (ipykernel)",
   "language": "python",
   "name": "python3"
  },
  "language_info": {
   "codemirror_mode": {
    "name": "ipython",
    "version": 3
   },
   "file_extension": ".py",
   "mimetype": "text/x-python",
   "name": "python",
   "nbconvert_exporter": "python",
   "pygments_lexer": "ipython3",
   "version": "3.9.16"
  }
 },
 "nbformat": 4,
 "nbformat_minor": 5
}
