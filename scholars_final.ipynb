{
 "cells": [
  {
   "cell_type": "code",
   "execution_count": 1,
   "id": "e2d55e0a-289d-4cbe-888c-9381de45aad7",
   "metadata": {
    "tags": []
   },
   "outputs": [
    {
     "name": "stdout",
     "output_type": "stream",
     "text": [
      "\"machine learning\" AND \"venous thrombosis\"\n",
      "\"machine learning\" AND \"venous thromboembolism\"\n",
      "\"machine learning\" AND \"palmonary embolism\"\n",
      "\"machine learning\" AND \"deep vein thrombosis\"\n",
      "\"artificial intelligence\" AND \"venous thrombosis\"\n",
      "\"artificial intelligence\" AND \"venous thromboembolism\"\n",
      "\"artificial intelligence\" AND \"palmonary embolism\"\n",
      "\"artificial intelligence\" AND \"deep vein thrombosis\"\n",
      "\"deep learning\" AND \"venous thrombosis\"\n",
      "\"deep learning\" AND \"venous thromboembolism\"\n",
      "\"deep learning\" AND \"palmonary embolism\"\n",
      "\"deep learning\" AND \"deep vein thrombosis\"\n",
      "\"reinforcement learing\" AND \"venous thrombosis\"\n",
      "\"reinforcement learing\" AND \"venous thromboembolism\"\n",
      "\"reinforcement learing\" AND \"palmonary embolism\"\n",
      "\"reinforcement learing\" AND \"deep vein thrombosis\"\n",
      "\"neural network\" AND \"venous thrombosis\"\n",
      "\"neural network\" AND \"venous thromboembolism\"\n",
      "\"neural network\" AND \"palmonary embolism\"\n",
      "\"neural network\" AND \"deep vein thrombosis\"\n"
     ]
    }
   ],
   "source": [
    "# Define your search terms\n",
    "keyword_list_1 = ['machine learning', 'artificial intelligence', 'deep learning', 'reinforcement learing', 'neural network']\n",
    "keyword_list_2 = ['venous thrombosis', 'venous thromboembolism', 'palmonary embolism', 'deep vein thrombosis']\n",
    "\n",
    "for word1 in keyword_list_1:\n",
    "    for word2 in keyword_list_2:\n",
    "        query = f'\"{word1}\" AND \"{word2}\"'\n",
    "        print(query)"
   ]
  },
  {
   "cell_type": "code",
   "execution_count": 2,
   "id": "f2b788c1-5116-4171-985a-d7b61c59ec9d",
   "metadata": {
    "tags": []
   },
   "outputs": [
    {
     "name": "stdout",
     "output_type": "stream",
     "text": [
      "Total results found: 650\n",
      "\n",
      "Results exported to 'google_scholar.csv' successfully.\n"
     ]
    }
   ],
   "source": [
    "import csv\n",
    "import requests\n",
    "from bs4 import BeautifulSoup\n",
    "\n",
    "# Define your search terms\n",
    "keyword_list_1 = ['machine learning', 'artificial intelligence', 'deep learning', 'reinforcement learning', 'neural network']\n",
    "keyword_list_2 = ['venous thrombosis', 'venous thromboembolism', 'pulmonary embolism', 'deep vein thrombosis']\n",
    "\n",
    "def search_google_scholar(query):\n",
    "    results = []\n",
    "    page = 0\n",
    "\n",
    "    while True:\n",
    "        url = f\"https://scholar.google.com/scholar?start={page}&q={query}&hl=en\"\n",
    "        headers = {\n",
    "            \"User-Agent\": \"Mozilla/5.0 (Windows NT 10.0; Win64; x64) AppleWebKit/537.36 (KHTML, like Gecko) Chrome/91.0.4472.124 Safari/537.36\"\n",
    "        }\n",
    "        response = requests.get(url, headers=headers)\n",
    "        soup = BeautifulSoup(response.text, 'html.parser')\n",
    "\n",
    "        for article in soup.find_all('div', class_='gs_r gs_or gs_scl'):\n",
    "            title_elem = article.find('h3', class_='gs_rt')\n",
    "            title = title_elem.text if title_elem else 'N/A'\n",
    "\n",
    "            authors_elem = article.find('div', class_='gs_a')\n",
    "            authors = authors_elem.text if authors_elem else 'N/A'\n",
    "\n",
    "            year_elem = article.find('span', class_='gs_age')\n",
    "            year = year_elem.text if year_elem else 'N/A'\n",
    "\n",
    "            doi_elem = article.find('a', class_='gs_or_ggsm')\n",
    "            doi = doi_elem['href'].split('=')[1] if doi_elem and doi_elem.has_attr('href') else 'N/A'\n",
    "\n",
    "            result = {\n",
    "                'Title': title,\n",
    "                'Authors': authors,\n",
    "                'Year': year,\n",
    "                'DOI': doi\n",
    "            }\n",
    "            results.append(result)\n",
    "\n",
    "        page += 10\n",
    "\n",
    "        if 'Next' not in response.text:\n",
    "            break\n",
    "\n",
    "    return results\n",
    "\n",
    "# Example usage\n",
    "results = []\n",
    "\n",
    "for word1 in keyword_list_1:\n",
    "    for word2 in keyword_list_2:\n",
    "        query = f'\"{word1}\" AND \"{word2}\"'\n",
    "        query_results = search_google_scholar(query)\n",
    "        results.extend(query_results)\n",
    "\n",
    "num_results = len(results)\n",
    "print(f\"Total results found: {num_results}\\n\")\n",
    "\n",
    "# Export results to CSV\n",
    "filename = 'results_google_scholar.csv'\n",
    "\n",
    "with open(filename, 'w', newline='', encoding='utf-8') as csvfile:\n",
    "    fieldnames = ['Title', 'Authors', 'Year', 'DOI']  # Include 'Query' in the fieldnames\n",
    "    writer = csv.DictWriter(csvfile, fieldnames=fieldnames)\n",
    "    writer.writeheader()\n",
    "\n",
    "    for result in results:\n",
    "        writer.writerow(result)\n",
    "\n",
    "print(f\"Results exported to '{filename}' successfully.\")"
   ]
  }
 ],
 "metadata": {
  "kernelspec": {
   "display_name": "Python 3 (ipykernel)",
   "language": "python",
   "name": "python3"
  },
  "language_info": {
   "codemirror_mode": {
    "name": "ipython",
    "version": 3
   },
   "file_extension": ".py",
   "mimetype": "text/x-python",
   "name": "python",
   "nbconvert_exporter": "python",
   "pygments_lexer": "ipython3",
   "version": "3.9.16"
  }
 },
 "nbformat": 4,
 "nbformat_minor": 5
}
