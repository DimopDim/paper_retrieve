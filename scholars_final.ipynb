{
 "cells": [
  {
   "cell_type": "code",
   "execution_count": null,
   "id": "da4c30b0-b1b9-4cc9-b94f-d44ab9c03158",
   "metadata": {
    "tags": []
   },
   "outputs": [],
   "source": [
    "\"\"\"Retrieve all the results\"\"\"\n",
    "import csv\n",
    "import requests\n",
    "from bs4 import BeautifulSoup\n",
    "\n",
    "# Lists of exact phrases\n",
    "phrase_list1 = ['reinforcement learning']\n",
    "phrase_list2 = ['deep vein thrombosis']\n",
    "\n",
    "# Create a CSV file to store the results\n",
    "with open('scholar_results.csv', 'w', newline='', encoding='utf-8') as csvfile:\n",
    "    writer = csv.writer(csvfile)\n",
    "    writer.writerow(['Query1', 'Query2', 'Title', 'Authors', 'Year', 'Abstract', 'Citations', 'URL'])\n",
    "\n",
    "    # Loop over phrases from both lists\n",
    "    for phrase1 in phrase_list1:\n",
    "        for phrase2 in phrase_list2:\n",
    "            page = 0  # Current page number\n",
    "            while True:\n",
    "                # Construct the search query URL with pagination\n",
    "                #search_query = f'https://scholar.google.com/scholar?q=\"{phrase1}\"+\"{phrase2}\"&start={page * 10}'\n",
    "                search_query = f'https://scholar.google.com/scholar?start={page * 10}&q=\"{phrase1}\"\"{phrase2}\"&hl=en&as_sdt=0,5'\n",
    "\n",
    "                # Send a GET request to the search query URL\n",
    "                response = requests.get(search_query)\n",
    "\n",
    "                # Parse the response using BeautifulSoup\n",
    "                soup = BeautifulSoup(response.content, 'html.parser')\n",
    "\n",
    "                # Find all the search result items\n",
    "                search_results = soup.find_all('div', {'class': 'gs_ri'})\n",
    "\n",
    "                # If no search results found, break the loop\n",
    "                if not search_results:\n",
    "                    break\n",
    "\n",
    "                # Extract information from each search result and write it to the CSV file\n",
    "                for result in search_results:\n",
    "                    query1 = phrase1\n",
    "                    query2 = phrase2\n",
    "                    title_element = result.find('h3', {'class': 'gs_rt'})\n",
    "                    title = title_element.text.strip() if title_element else ''\n",
    "\n",
    "                    authors_element = result.find('div', {'class': 'gs_a'})\n",
    "                    authors = authors_element.text.strip() if authors_element else ''\n",
    "\n",
    "                    year_element = result.find('span', {'class': 'gs_age'})\n",
    "                    year = year_element.text.strip() if year_element else ''\n",
    "\n",
    "                    abstract_element = result.find('div', {'class': 'gs_rs'})\n",
    "                    abstract = abstract_element.text.strip() if abstract_element else ''\n",
    "\n",
    "                    citations_element = result.find('div', {'class': 'gs_fl'})\n",
    "                    citations = citations_element.text.strip() if citations_element else ''\n",
    "\n",
    "                    url_element = title_element.find('a')\n",
    "                    url = url_element['href'] if url_element else ''\n",
    "\n",
    "                    writer.writerow([query1, query2, title, authors, year, abstract, citations, url])\n",
    "\n",
    "                page += 1\n",
    "\n",
    "print(\"Search results exported to scholar_results.csv\")"
   ]
  },
  {
   "cell_type": "code",
   "execution_count": null,
   "id": "f3e8e1ea-e158-4bab-af55-893fdddb8b6e",
   "metadata": {
    "tags": []
   },
   "outputs": [],
   "source": [
    "phrase_list1 = ['machine learning', 'artificial intelligence', 'deep learning', 'reinforcement learning', 'neural network']\n",
    "phrase_list2 = ['venous thrombosis', 'venous thromboembolism', 'pulmonary embolism', 'deep vein thrombosis']"
   ]
  }
 ],
 "metadata": {
  "kernelspec": {
   "display_name": "Python 3 (ipykernel)",
   "language": "python",
   "name": "python3"
  },
  "language_info": {
   "codemirror_mode": {
    "name": "ipython",
    "version": 3
   },
   "file_extension": ".py",
   "mimetype": "text/x-python",
   "name": "python",
   "nbconvert_exporter": "python",
   "pygments_lexer": "ipython3",
   "version": "3.9.16"
  }
 },
 "nbformat": 4,
 "nbformat_minor": 5
}
